{
 "cells": [
  {
   "cell_type": "code",
   "execution_count": 2,
   "id": "62967fdb",
   "metadata": {},
   "outputs": [],
   "source": [
    "#You can prdefine skill sets and work reasons for the company in the below dictionaries\n",
    "work_reason = {\"Data Analyst\": \"XXXX\", \"Product Manager\": \"YYYY\", \"Software Engineer\":\"ZZZZ\"}\n",
    "\n",
    "skill_set = {\"PM\": \"QQQQQ\"\n",
    "            , \"BA\": \"TTTTT\"\n",
    "            , \"DA\": \"BBBBB\"}\n",
    "\n",
    "\n",
    "#this function takes 5 different values and when you call it, it creates a new docx file with a name and appends a csv file\n",
    "#with the values: Company name, job title, the application date \n",
    "def cover_letter_fixer(company, title, experience, skills,work_reason):\n",
    "    \n",
    "    #this is the outline part you can always chang it\n",
    "    cover_letter =  \"\"\"Dear Hiring Manager\n",
    "\n",
    "I am excited to join {company} as a {title}. I have experience in {experience} and I am skilled in many things. \n",
    "\n",
    "I would be a great match for this position. As the XXXX at XXXX, I was responsible for these. During my time there, I improved this by 10% in a single quarter. I am applying for the {title} position because {work_reason} I look forward to bringing my expertise in {skills}.\n",
    "\n",
    "I have attached my resume, with more information on my skills, education, and work experiences. Thank you for your consideration. I look forward to hearing from you.\n",
    "\n",
    "Sincerely,\"\"\".format(company=company,title=title, skills=skills, experience = experience, work_reason = work_reason)\n",
    "\n",
    "    #this block is for .docx file creation\n",
    "    import docx\n",
    "    mydoc = docx.Document()\n",
    "    mydoc.add_paragraph(cover_letter)\n",
    "    mydoc.save(\"./cover_letters./{}.docx\".format(company+\"Your_Name\"))\n",
    "    \n",
    "    \n",
    "    #this block is for creating and appending the csv file with the data\n",
    "    import csv\n",
    "    from datetime import date\n",
    "    new_list = {\"Company\":company,\"Title\":title,\"Date\":date.today()}\n",
    "    with open(\"job_tracker.csv\",\"a\") as tracker:\n",
    "        fields = [\"Company\",\"Title\",\"Date\"]\n",
    "        output_tracker = csv.DictWriter(tracker, fieldnames=fields)\n",
    "        \n",
    "        output_tracker.writerow(new_list)\n",
    "    \n",
    "    \n",
    "     \n",
    "    \n",
    "    return mydoc"
   ]
  },
  {
   "cell_type": "code",
   "execution_count": null,
   "id": "ea506f78",
   "metadata": {},
   "outputs": [],
   "source": []
  }
 ],
 "metadata": {
  "kernelspec": {
   "display_name": "Python 3 (ipykernel)",
   "language": "python",
   "name": "python3"
  },
  "language_info": {
   "codemirror_mode": {
    "name": "ipython",
    "version": 3
   },
   "file_extension": ".py",
   "mimetype": "text/x-python",
   "name": "python",
   "nbconvert_exporter": "python",
   "pygments_lexer": "ipython3",
   "version": "3.9.13"
  }
 },
 "nbformat": 4,
 "nbformat_minor": 5
}
